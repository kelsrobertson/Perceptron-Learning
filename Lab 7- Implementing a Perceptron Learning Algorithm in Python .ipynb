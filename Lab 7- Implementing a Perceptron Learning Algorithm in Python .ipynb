{
 "cells": [
  {
   "cell_type": "markdown",
   "id": "d749b15c",
   "metadata": {},
   "source": [
    "<h3 text align='center';> ISAT 341: Data Science and Machine Learning </h3>\n",
    "<h3 text align='center';> (Kelsey Robertson)\n",
    "    <br>\n",
    "    \n",
    "<h3 text align='center';> Lab 7: Artificial Neurons and Machine Learning </h3>\n",
    "  \n",
    "   \n",
    "<h3 style=\"text-align: center;\"><em>Implementing a Perceptron Learning Algorithm in Python</em></h3>"
   ]
  },
  {
   "cell_type": "markdown",
   "id": "2e67aae8",
   "metadata": {},
   "source": [
    "<u>Objectives</u>\n",
    " - Reuse and modify code from Activity 10 (Pre-Lab 7).\n",
    " - Reuse code from other lab(s)\n",
    " - Understand the McCulloch and Pitts (MCP) simplified model of a neuron\n",
    " - Mathematically Implement Frank Rosenblatt’s perceptron learning rule based on the MCP neuron model (use some Linear Algebra)\n",
    "- Use the Python Programming Language to Implement Frank Rosenblatt’s perceptron learning rule based on the MCP neuron model.\n",
    "- Use NumPy matrix products and other Numpy features (arrays and methods)\n",
    "- Train the MCP model for binary classification on subset of Iris flower dataset\n"
   ]
  },
  {
   "cell_type": "markdown",
   "id": "cf03ca5e",
   "metadata": {},
   "source": [
    "### Implementing a Perceptron Learning Algorithm in Python"
   ]
  },
  {
   "cell_type": "code",
   "execution_count": 100,
   "id": "c86c1129",
   "metadata": {},
   "outputs": [],
   "source": [
    "import numpy as np\n",
    "\n",
    "class Perceptron(object):\n",
    "    \"\"\"Perceptron classifier.\n",
    "    \n",
    "    Parameters\n",
    "    ------------\n",
    "    eta : float\n",
    "        Learning rate\n",
    "    n_iter : int\n",
    "        Passes over the training dataset.\n",
    "    random_state : int\n",
    "        Random number generator seed for random weight initialization.\n",
    "    \n",
    "    Attributes\n",
    "    -----------\n",
    "    w_ : 1d-array\n",
    "        Weights after fitting.\n",
    "    errors_ : list\n",
    "        Number of misclassifications in every epoch.\n",
    "    \n",
    "    \"\"\"\n",
    "   # constructor - initializes an object into two variables\n",
    "    def __init__(self, eta = 0.01, n_iter=10):\n",
    "        self.eta = eta\n",
    "        self.n_iter = n_iter\n",
    "   # fit method - the weights are initally zero, but then have been modified to the default values    \n",
    "    def fit(self, X, y):\n",
    "        \"\"\"Fit training data.\n",
    "        \n",
    "        Parameters\n",
    "        ----------\n",
    "        X : {array-like}, shape = [n_samples, n_features]\n",
    "            Training vectors, where n_samples is the number of samples and\n",
    "            n_features is the number of features.\n",
    "        y : array-like, shape = [n_samples]\n",
    "            Target values.\n",
    "\n",
    "        Returns\n",
    "        -------\n",
    "        self : object\n",
    "        \n",
    "        \"\"\"\n",
    "        self.w_ = np.zeros(1 + X.shape[1])\n",
    "        \n",
    "        #modifying weights\n",
    "        self.w_[0], self.w_[1], self.w_[2] = 1,-2,3\n",
    "        \n",
    "        #error list\n",
    "        self.errors_ = []\n",
    "        \n",
    "        #represents training the epoch...within each epoch, training is implemented and each target variable is aligned \n",
    "        for _ in range(self.n_iter):\n",
    "            errors = 0\n",
    "            for xi, target in zip(X, y):\n",
    "                #the update is calculated to the weights based on the prediciton errors and then it gets multiplied by the learning rate\n",
    "                update = self.eta * (target - self.predict(xi))\n",
    "                #weight vector is updated for algorithm\n",
    "                self.w_[1:] += update * xi\n",
    "                self.w_[0] += update\n",
    "                errors += int(update != 0.0) # misclassifications are counted\n",
    "            self.errors_.append(errors) # the number of errors is added to error list\n",
    "        return self\n",
    "    \n",
    "    # net input is calculated by taking the X and w_ and adding the specified weights\n",
    "    def net_input(self, X):\n",
    "        \"\"\"Calculate net input\"\"\"\n",
    "        return np.dot(X, self.w_[1:]) + self.w_[0]\n",
    "    \n",
    "    # predicts the class for X, uses the calculated net input, and decides what to return based on if net input is greate than or equal to 0\n",
    "    def predict(self, X):\n",
    "        \"\"\"Return class label after unit step\"\"\"\n",
    "        return np.where(self.net_input(X) >= 0.0, 1, -1)\n"
   ]
  },
  {
   "cell_type": "markdown",
   "id": "91ef6add",
   "metadata": {},
   "source": [
    "### Import Iris Dataset from UCL Machine Learning Reposition into a Pandas dataframe"
   ]
  },
  {
   "cell_type": "code",
   "execution_count": 101,
   "id": "9a2182e4",
   "metadata": {},
   "outputs": [],
   "source": [
    "# Load the iris flower dataset from the UCI Machine Learning Repository into a Pandas Dataframe\n",
    "import pandas as pd \n",
    "\n",
    "df = pd.read_csv('https://archive.ics.uci.edu/ml/'\n",
    "                'machine-learning-databases/iris/iris.data', header= None)"
   ]
  },
  {
   "cell_type": "markdown",
   "id": "df71ff75",
   "metadata": {},
   "source": [
    "### Subset of the data encoded with binary vales 1 and -1 as the class labels"
   ]
  },
  {
   "cell_type": "code",
   "execution_count": 102,
   "id": "d5f0c30d",
   "metadata": {},
   "outputs": [],
   "source": [
    "# iloc indexer syntax : data_frame_name.iloc[row selection,column selection]\n",
    "%matplotlib inline\n",
    "import matplotlib.pyplot as plt\n",
    "import numpy as np \n",
    "\n",
    "# Select setosa and versicolor\n",
    "y = df.iloc[0:100,4].values"
   ]
  },
  {
   "cell_type": "code",
   "execution_count": 103,
   "id": "11b79638",
   "metadata": {},
   "outputs": [],
   "source": [
    "y = np.where(y == 'Iris-setosa', -1, 1)"
   ]
  },
  {
   "cell_type": "code",
   "execution_count": 104,
   "id": "2f650f01",
   "metadata": {},
   "outputs": [],
   "source": [
    "# Extract sepal length and petal length\n",
    "X = df.iloc [0:100, [0,2]].values"
   ]
  },
  {
   "cell_type": "markdown",
   "id": "b7fec74f",
   "metadata": {},
   "source": [
    "### Plot the decision boundary"
   ]
  },
  {
   "cell_type": "code",
   "execution_count": 105,
   "id": "df2d3b2d",
   "metadata": {},
   "outputs": [
    {
     "data": {
      "image/png": "[encoded data removed]",
      "text/plain": [
       "<Figure size 640x480 with 1 Axes>"
      ]
     },
     "metadata": {},
     "output_type": "display_data"
    }
   ],
   "source": [
    "# Plot data \n",
    "plt.scatter(X[:50,0], X[:50,1],\n",
    "           color = 'red', marker = 'o', label = 'setosa')\n",
    "plt.scatter(X[50:100,0], X[50:100,1],\n",
    "           color = 'blue', marker = 'x', label = 'versicolor')\n",
    "\n",
    "plt.xlabel('sepal length [cm]')\n",
    "plt.ylabel('petal length [cm]')\n",
    "plt.legend(loc = 'upper left')\n",
    "\n",
    "plt.tight_layout()\n",
    "plt.show()"
   ]
  },
  {
   "cell_type": "markdown",
   "id": "58709d1f",
   "metadata": {},
   "source": [
    "### Training the Perceptron Model: Instantiate the class with the default values and call the fit method\n"
   ]
  },
  {
   "cell_type": "code",
   "execution_count": 106,
   "id": "18a22f38",
   "metadata": {},
   "outputs": [],
   "source": [
    "ppn = Perceptron(eta=0.2, n_iter=10)"
   ]
  },
  {
   "cell_type": "code",
   "execution_count": 107,
   "id": "9ba750cd",
   "metadata": {},
   "outputs": [
    {
     "data": {
      "text/plain": [
       "<__main__.Perceptron at 0x167d88d10>"
      ]
     },
     "execution_count": 107,
     "metadata": {},
     "output_type": "execute_result"
    }
   ],
   "source": [
    "ppn.fit(X,y)"
   ]
  },
  {
   "cell_type": "markdown",
   "id": "c8d9b9be",
   "metadata": {},
   "source": [
    "### Plot the Misclassifications(errors) after each epoch \n"
   ]
  },
  {
   "cell_type": "code",
   "execution_count": 108,
   "id": "28dab32f",
   "metadata": {},
   "outputs": [
    {
     "data": {
      "image/png": "[encoded data removed]",
      "text/plain": [
       "<Figure size 640x480 with 1 Axes>"
      ]
     },
     "metadata": {},
     "output_type": "display_data"
    }
   ],
   "source": [
    "plt.plot(range(1, len(ppn.errors_) + 1), ppn.errors_, marker='o')\n",
    "plt.xlabel('Epochs')\n",
    "plt.ylabel('Number of Misclassifications')\n",
    "\n",
    "plt.tight_layout()\n",
    "plt.savefig('Perceptron_1.png', dpi=300)\n",
    "plt.show()"
   ]
  },
  {
   "cell_type": "markdown",
   "id": "f0e1ce4d",
   "metadata": {},
   "source": [
    "<u>Comment On Modifying Weights:</u>\n",
    "Initalizing the weights to be other than zero allows for the rates of the convergence (number of epochs required) of the perceptron algorithm to become either slower or faster depending on how far the initial weights are from the optimal weights. Using random here allows for different weights configerations, which can cause the convergences to become faster or slower. "
   ]
  },
  {
   "cell_type": "markdown",
   "id": "91a10fc2",
   "metadata": {},
   "source": [
    "<table>\n",
    "    <tr> <td>Run #</td> <td>η</td> <td>Epochs to convergence</td> <td>w0\n",
    "</td> <td>w1</td> <td>w2</td> </tr><tr> <td>1</td> <td>0.05</td> <td>6</td><td>0</td> <td>0</td> <td> <center/>0 </td> <td><center/> </td> </tr>\n",
    "       <tr> <td>2</td> <td>0.1</td> <td>4</td> <td>.5</td> <td> <center/>.5 </td> <td><center/>.5 </td> </tr>\n",
    "       <tr> <td>3</td> <td>0.05</td> <td>1</td> <td>2</td> <td> <center/> -2</td> <td><center/>3 </td> </tr>\n",
    "    <tr> <td>4</td> <td>0.05</td> <td>5</td> <td>-4</td> <td> <center/>4 </td> <td><center/>1 </td> </tr>\n",
    "    <tr> <td>5</td> <td>0.2</td> <td>3</td> <td>1</td> <td> <center/>-2 </td> <td><center/>3 </td> </tr>\n",
    "</table>"
   ]
  },
  {
   "cell_type": "markdown",
   "id": "5e559868",
   "metadata": {},
   "source": [
    "### Questions"
   ]
  },
  {
   "cell_type": "markdown",
   "id": "284b1e9f",
   "metadata": {},
   "source": [
    "self.w_[1:] += update * xi\n",
    "\n",
    "This line of code is updating the weights using the perceptrons learning rate and adjusting each weight becomes adjusted based on the error that is between the predicted outcomes and the target/feature value."
   ]
  },
  {
   "cell_type": "markdown",
   "id": "d729fe6f",
   "metadata": {},
   "source": [
    "errors += int(update !=0.0)\n",
    "\n",
    "This line of code is keeping track of the misclassifications in each epoch and helps to look after the convergences of the algorithm. "
   ]
  }
 ],
 "metadata": {
  "kernelspec": {
   "display_name": "Python 3 (ipykernel)",
   "language": "python",
   "name": "python3"
  },
  "language_info": {
   "codemirror_mode": {
    "name": "ipython",
    "version": 3
   },
   "file_extension": ".py",
   "mimetype": "text/x-python",
   "name": "python",
   "nbconvert_exporter": "python",
   "pygments_lexer": "ipython3",
   "version": "3.11.5"
  }
 },
 "nbformat": 4,
 "nbformat_minor": 5
}
